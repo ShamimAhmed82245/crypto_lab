{
 "cells": [
  {
   "cell_type": "code",
   "execution_count": null,
   "id": "5bef9b41-39b8-4786-b716-ac8dbceefb75",
   "metadata": {},
   "outputs": [],
   "source": [
    "import base64\n",
    "from Crypto.Cipher import DES\n",
    "from Crypto.Random import get_random_bytes"
   ]
  },
  {
   "cell_type": "code",
   "execution_count": 1,
   "id": "4171b697-6714-4063-9fe7-7bbe2c92b792",
   "metadata": {},
   "outputs": [
    {
     "name": "stdin",
     "output_type": "stream",
     "text": [
      "Enter the plaintext:  hello\n"
     ]
    },
    {
     "ename": "NameError",
     "evalue": "name 'get_random_bytes' is not defined",
     "output_type": "error",
     "traceback": [
      "\u001b[1;31m---------------------------------------------------------------------------\u001b[0m",
      "\u001b[1;31mNameError\u001b[0m                                 Traceback (most recent call last)",
      "Cell \u001b[1;32mIn[1], line 8\u001b[0m\n\u001b[0;32m      5\u001b[0m     plaintext \u001b[38;5;241m=\u001b[39m plaintext \u001b[38;5;241m+\u001b[39m \u001b[38;5;124m\"\u001b[39m\u001b[38;5;124m \u001b[39m\u001b[38;5;124m\"\u001b[39m\n\u001b[0;32m      7\u001b[0m \u001b[38;5;66;03m#create a random key\u001b[39;00m\n\u001b[1;32m----> 8\u001b[0m key \u001b[38;5;241m=\u001b[39m \u001b[43mget_random_bytes\u001b[49m(\u001b[38;5;241m8\u001b[39m)\n\u001b[0;32m     10\u001b[0m \u001b[38;5;66;03m#create model of the cipher \u001b[39;00m\n\u001b[0;32m     11\u001b[0m des \u001b[38;5;241m=\u001b[39m DES\u001b[38;5;241m.\u001b[39mnew(key,DES\u001b[38;5;241m.\u001b[39mMODE_ECB)\n",
      "\u001b[1;31mNameError\u001b[0m: name 'get_random_bytes' is not defined"
     ]
    }
   ],
   "source": [
    "#input plaintext\n",
    "plaintext = input(\"Enter the plaintext: \")\n",
    "#padding the plaintext\n",
    "while len(plaintext)%8 !=0:\n",
    "    plaintext = plaintext + \" \"\n",
    "\n",
    "#create a random key\n",
    "key = get_random_bytes(8)\n",
    "\n",
    "#create model of the cipher \n",
    "des = DES.new(key,DES.MODE_ECB)\n",
    "\n",
    "#Encryption Part \n",
    "ciphertext = des.encrypt(plaintext.encode('utf-8'))\n",
    "print(\"Ciphertext : \",base64.b64encode(ciphertext))\n",
    "\n",
    "decryptedtext = des.decrypt(ciphertext)\n",
    "print(\"Decrypted text: \",decryptedtext.decode())"
   ]
  },
  {
   "cell_type": "code",
   "execution_count": null,
   "id": "27c0ed7a-fe87-4f41-ba10-6123dfe492b9",
   "metadata": {},
   "outputs": [],
   "source": [
    "import base64\n",
    "from Crypto.Cipher import DES\n",
    "from Crypto.Random import get_random_bytes\n",
    "\n",
    "plaintext = input(\"Enter the pliantext \")\n",
    "\n",
    "while len(plaintext)%8 !=0:\n",
    "    plaintext = plaintext + \" \"\n",
    "\n",
    "key = get_random_bytes(8)\n",
    "des = DES.new(key,DES.MODE_ECB)\n",
    "\n",
    "ciphertext = des.encrypt(plaintext.encode('utf-8'))\n",
    "print(\"Ciphertext: \",base64.b64encode(ciphertext))\n",
    "\n",
    "decryptedtext = des.decrypt(ciphertext)\n",
    "print(\"Decryption text: \",decryptedtext.decode())"
   ]
  },
  {
   "cell_type": "code",
   "execution_count": null,
   "id": "f5cbc8c9-673f-4993-bfeb-972ee06d0451",
   "metadata": {},
   "outputs": [],
   "source": [
    "import base64\n",
    "from Crypto.Cipher import DES\n",
    "from Crypto.Random import get_random_bytes\n",
    "\n",
    "plaintext = input(\"Enter the plaintext : \")\n",
    "\n",
    "while len(plaintext)%8 !=0: \n",
    "    plaintext = plaintext+ \" \"\n",
    "\n",
    "key = get_random_bytes(8)\n",
    "des = DES.new(key,DES.MODE_ECB)\n",
    "\n",
    "ciphertext = des.encrypt(plaintext.encode('utf-8'))\n",
    "print(\"Ciphertex\")"
   ]
  },
  {
   "cell_type": "code",
   "execution_count": null,
   "id": "1e63fbbf-4364-40b7-adcd-8090c3b9a0c3",
   "metadata": {},
   "outputs": [],
   "source": [
    "plaintext = input(\"Enter the plaintext: \")\n",
    "while len(plaintext)%8 !=0:\n",
    "    plaintext = plaintext+\" \"\n",
    "\n",
    "key = get_random_bytes(8)\n",
    "\n",
    "des = DES.new(key,DES.MODE_ECB)\n",
    "\n",
    "ciphertext = des.encrypt(plaintext.encode('utf-8'))\n",
    "print(\"Ciphertext: \",base64.b64encode(ciphertext))\n",
    "\n",
    "decryptedtext = des.decrypt(ciphertext)\n",
    "print(\"Decrypted text: \",decryptedtext.decode)"
   ]
  },
  {
   "cell_type": "code",
   "execution_count": null,
   "id": "21d3be60-a0db-4a6b-abb5-0d75de6ce9ee",
   "metadata": {},
   "outputs": [],
   "source": [
    "plaintext = input(\"Enter the plaintext: \")\n",
    "\n",
    "while len(plaintext)%8 !=0: \n",
    "    plaintext = plaintext + \" \"\n",
    "\n",
    "key = get_random_bytes(8)\n",
    "des = DES.new(key,DES.MODE_ECB)\n",
    "\n",
    "ciphertext = des.encrypt(plaintext.encode('utf-8'))\n",
    "print(\"Ciphertext: \",base64.b64encode(ciphertext))\n",
    "\n",
    "decryptedtext = des.decrypt(ciphertext)\n",
    "print(decryptedtext.decode())"
   ]
  },
  {
   "cell_type": "code",
   "execution_count": null,
   "id": "7995e2a1-1066-4204-8f82-c7834df4db64",
   "metadata": {},
   "outputs": [],
   "source": [
    "plaintext = input(\"Enter the plaintext: \")\n",
    "\n",
    "while len(plaintext)%8 !=0: \n",
    "    plaintext = p"
   ]
  },
  {
   "cell_type": "code",
   "execution_count": null,
   "id": "0036c51a-a09a-4c90-bc11-b5bbb6e0bfbb",
   "metadata": {},
   "outputs": [],
   "source": [
    "import base64 \n",
    "from Crypto.Cipher import AES \n",
    "from Crypto.Random import get_random_bytes\n",
    "\n",
    "plaintext = b'This is a secrete message'\n",
    "key = get_random_bytes(8)\n",
    "\n",
    "cipher = AES.new(key,AES.MODE_EAX)\n",
    "ciphertext , tag = cipher.encrypt_and_digest(plaintext)\n",
    "print(\"Ciphertext: \",base64.b64encode(ciphertext))\n",
    "print(\"Tag: \",tag)\n",
    "\n",
    "decrypt_cipher = AES.new(key,AES.MODE_EAX,nonce=cipher.nonce)\n",
    "decrypted_text = decrypt_cipher.decrypt_and_verify(ciphertext,tag)\n",
    "print(\"Decrypted text: \",decrypted_text.decode())"
   ]
  },
  {
   "cell_type": "code",
   "execution_count": null,
   "id": "1bfc96d3-1d81-4824-856a-81a26eb140ef",
   "metadata": {},
   "outputs": [],
   "source": [
    "plaintext = b'This is the plaintext'\n",
    "key = get_random_bytes(8)\n",
    "\n",
    "cipher = AES.new(key,AES.MODE_EAX)\n",
    "ciphertext , tag = AES.encrypt_and_digest(plaintext)\n",
    "print(\"Ciphertext: \",base64.b64encode(ciphertext))\n",
    "print(\"Tag: \",tag)\n",
    "\n",
    "decrypt_cipher = AES..new()key,AES.MODE_EAX,nonce=cipher.nonce)\n",
    "decrypted_text = decrypt_cipher.decrypt_and_verify(ciphertext,tag)\n",
    "print(\"Decrypted text: \",decrypted_text.decode())"
   ]
  },
  {
   "cell_type": "code",
   "execution_count": null,
   "id": "ebc3462b-24fa-47f4-bc5b-862c8c820dc6",
   "metadata": {},
   "outputs": [],
   "source": [
    "import base64\n",
    "from Crypto.Cipher import AES\n",
    "from Crypto.Random import get_random_bytes\n",
    "\n",
    "plaintext = b'This is a secret message'\n",
    "key = get_random_bytes(16)\n",
    "\n",
    "cipher = AES.new(key,AES.MODE_EAX)\n",
    "ciphertext,tag = cipher.encrypt_and_digest(plaintext)\n",
    "print(\"Ciphertext: \",base64.b64encode(ciphertext))\n",
    "print(\"Tag: \",tag)\n",
    "\n",
    "decrypt_cipher = AES.new(key,AES.MODE_EAX,nonce=cipher.nonce)\n",
    "decrypted_text = decrypted_cipher.decrypted_and_verify(ciphertext,tag)\n",
    "print(\"Decrypted text: \",decrypted_text.decode())"
   ]
  },
  {
   "cell_type": "code",
   "execution_count": null,
   "id": "d32719d1-d293-49c1-b417-719a73934668",
   "metadata": {},
   "outputs": [],
   "source": [
    "plaintext = b''\n",
    "key = get_random_bytes(16)\n",
    "\n",
    "cipher =  AES.new(key,AES.MODE_EAX)\n",
    "ciphertext, tag = cipher.encrypt_and_digest(plaintext)\n",
    "print(\"Ciphertext: \")\n",
    "print(\"Tag: \",tag)\n",
    "\n",
    "decrypt_cipher = AES.new(key,AES.MODE_EAX,nonce=cipher.nonce)\n",
    "decrypted_text = decrypt_cipher.decrypt_and_verify(ciphertext,tag)\n",
    "print(decrypted_text.decode())"
   ]
  },
  {
   "cell_type": "code",
   "execution_count": 9,
   "id": "0106b7c4-a176-496b-a19b-03bd92ac9a61",
   "metadata": {},
   "outputs": [],
   "source": [
    "#Additive\n",
    "def encryption(plaintext,key):\n",
    "    text = plaintext.lower()\n",
    "    ciphertext = \"\"\n",
    "    for char in text:\n",
    "        order = ord(char)\n",
    "        if order>=97 and order<=122:\n",
    "            order= order-97\n",
    "            order = (order+key)%26\n",
    "            order = order+97\n",
    "            new_char = chr(order)\n",
    "            ciphertext = ciphertext + new_char\n",
    "        else:\n",
    "            ciphertext +=char\n",
    "    return ciphertext \n",
    "\n",
    "def decryption(ciphertext,key):\n",
    "    text = ciphertext.upper()\n",
    "    plaintext = \"\"\n",
    "    for char in text:\n",
    "        order = ord(char)\n",
    "        if order>=65 and order<=90:\n",
    "            order-=65\n",
    "            order=(order-key)%26\n",
    "            order+=65\n",
    "            new_char = chr(order)\n",
    "            plaintext += new_char\n",
    "\n",
    "        else:\n",
    "            plaintext+=char\n",
    "    return plaintext\n"
   ]
  },
  {
   "cell_type": "code",
   "execution_count": null,
   "id": "aa3e4652-9bf0-4d67-8747-3ad8ffc7af46",
   "metadata": {},
   "outputs": [],
   "source": []
  },
  {
   "cell_type": "code",
   "execution_count": 10,
   "id": "4b90d0ad-4776-433a-be22-ad3961d86096",
   "metadata": {},
   "outputs": [
    {
     "name": "stdin",
     "output_type": "stream",
     "text": [
      "Enter the plaintext:  hello\n",
      "Enter the key:  7\n"
     ]
    },
    {
     "name": "stdout",
     "output_type": "stream",
     "text": [
      "olssv\n",
      "HELLO\n"
     ]
    }
   ],
   "source": [
    "plaintext = input(\"Enter the plaintext: \")\n",
    "key = int(input(\"Enter the key: \"))\n",
    "\n",
    "ciphertext = encryption(plaintext, key)\n",
    "decrypted_text = decryption(ciphertext,key)\n",
    "print(ciphertext)\n",
    "print(decrypted_text)"
   ]
  },
  {
   "cell_type": "code",
   "execution_count": 12,
   "id": "c3746274-792e-408c-be3d-4d3baba2777d",
   "metadata": {},
   "outputs": [],
   "source": [
    "def key_generation(key):\n",
    "    key_len = len(key)\n",
    "    key_stream = [0]*key_len\n",
    "    key = key.lower()\n",
    "    print(key_stream)\n",
    "    for i in range(key_len):\n",
    "        order = ord(key[i])-97\n",
    "        key_stream[i] = order\n",
    "\n",
    "    return key_stream\n",
    "\n",
    "def encryption(plaintext,key_stream):\n",
    "    text = plaintext.lower()\n",
    "    key_size = len(key_stream)\n",
    "    ciphertext = \"\"\n",
    "    j=0\n",
    "    for char in text:\n",
    "        order = ord(char)\n",
    "        if order>=97 and order<=122:\n",
    "            key = key_stream[j]\n",
    "            if j==key_size-1:\n",
    "                j=0\n",
    "\n",
    "            else:\n",
    "                j=j+1\n",
    "            order = order - 97\n",
    "            order = (order+key)%26\n",
    "            order = order + 97\n",
    "            new_char = chr(order)\n",
    "            ciphertext+=new_char\n",
    "        else:\n",
    "            ciphertext = ciphertext+char\n",
    "        return ciphertext\n",
    "def decryption(ciphertext,key_stream):\n",
    "    text = ciphertext.upper()\n",
    "    key_size = len(key_stream)\n",
    "    plaintext = \"\"\n",
    "    j=0\n",
    "    for char in text:\n",
    "        order = ord(char)\n",
    "        if order>=65 and order<=90:\n",
    "            key = key_stream[j]\n",
    "            if j==(key_size-1):\n",
    "                j=0\n",
    "            else:\n",
    "                j=j+1\n",
    "            order = order - 65\n",
    "            order = (order-key)%26\n",
    "            order = order+65\n",
    "            new_char = chr(order)\n",
    "            plaintext += new_char\n",
    "        else:\n",
    "            plaintext+=char\n"
   ]
  },
  {
   "cell_type": "code",
   "execution_count": 13,
   "id": "646f0538-90ad-42c1-beeb-aec217a0a22f",
   "metadata": {},
   "outputs": [
    {
     "name": "stdin",
     "output_type": "stream",
     "text": [
      "Enter the plaintext:  she is listening\n",
      "Enter the key:  pascal\n"
     ]
    },
    {
     "name": "stdout",
     "output_type": "stream",
     "text": [
      "[0, 0, 0, 0, 0, 0]\n"
     ]
    }
   ],
   "source": [
    "plaintext = input(\"Enter the plaintext: \")\n",
    "key = input(\"Enter the key: \")\n",
    "key_stream = key_generation(key)\n",
    "ciphertext = encryption(plaintext,key_stream)\n",
    "decrypted_text = decryption(ciphertext,key_stream)"
   ]
  },
  {
   "cell_type": "code",
   "execution_count": 14,
   "id": "c67d0ae6-a071-4881-9736-b5b63dea1c49",
   "metadata": {},
   "outputs": [
    {
     "name": "stdout",
     "output_type": "stream",
     "text": [
      "h\n",
      "None\n"
     ]
    }
   ],
   "source": [
    "print(ciphertext)\n",
    "print(decrypted_text)"
   ]
  },
  {
   "cell_type": "code",
   "execution_count": 5,
   "id": "b09cd5ac-f6cb-4808-8fa4-a700fedd144a",
   "metadata": {},
   "outputs": [],
   "source": [
    "def encryption(plaintext, key):\n",
    "    text = plaintext.lower()\n",
    "    ciphertext = \"\"\n",
    "    for char in text:\n",
    "        order = ord(char)\n",
    "        if order>=97 and order<=122:\n",
    "            order = order-97\n",
    "            order = (order*key)%26\n",
    "            order = order+97\n",
    "            new_char = chr(order)\n",
    "            ciphertext = ciphertext + new_char\n",
    "        else:\n",
    "            ciphertext = ciphertext + char\n",
    "    return ciphertext\n",
    "\n",
    "def decryption(ciphertext,key):\n",
    "    text = ciphertext.upper()\n",
    "    key_inv = pow(key,-1,26)\n",
    "    plaintext = \"\"\n",
    "    for char in text:\n",
    "        order = ord(char)\n",
    "        if order>=65 and order<=122:\n",
    "            order=order-65\n",
    "            order = (order*key_inv)%26\n",
    "            order = order+65\n",
    "            new_char = chr(order)\n",
    "            plaintext = plaintext + new_char\n",
    "        else:\n",
    "            plaintext = plaintext+char\n",
    "\n",
    "    return plaintext\n",
    "            \n",
    "    "
   ]
  },
  {
   "cell_type": "code",
   "execution_count": 6,
   "id": "1af24df9-93a2-4855-acf1-78d7de268332",
   "metadata": {},
   "outputs": [
    {
     "name": "stdin",
     "output_type": "stream",
     "text": [
      "Enter the plaintext:  hello\n",
      "Enter the key:  7\n"
     ]
    },
    {
     "name": "stdout",
     "output_type": "stream",
     "text": [
      "xczzu\n",
      "HELLO\n"
     ]
    }
   ],
   "source": [
    "plaintext = input(\"Enter the plaintext: \")\n",
    "key = int(input(\"Enter the key: \"))\n",
    "ciphertext = encryption(plaintext,key)\n",
    "decrypted_text = decryption(ciphertext,key)\n",
    "print(ciphertext)\n",
    "print(decrypted_text)"
   ]
  },
  {
   "cell_type": "code",
   "execution_count": 9,
   "id": "be6a6d3f-e3ea-4050-a967-5c0ba0afd49e",
   "metadata": {},
   "outputs": [],
   "source": [
    "def encryption(plaintext,key1,key2):\n",
    "    text = plaintext.lower()\n",
    "    ciphertext = \"\"\n",
    "    for char in text:\n",
    "        order = ord(char)\n",
    "        if order>=97 and order<=122:\n",
    "            order-=97\n",
    "            order=(order*key1)%26\n",
    "            order = (order+key2)%26\n",
    "            order+=97\n",
    "            ciphertext+=chr(order)\n",
    "        else:\n",
    "            ciphertext += char\n",
    "\n",
    "    return ciphertext\n",
    "\n",
    "def decryption(ciphertext,key1,key2):\n",
    "    text = ciphertext.upper()\n",
    "    plaintext = \"\"\n",
    "    key1_inv = pow(key1,-1,26)\n",
    "    for char in text:\n",
    "        order = ord(char)\n",
    "        if order>=65 and order<=90:\n",
    "            order -= 65\n",
    "            order = (order-key2)%26\n",
    "            order = (order*key1_inv)%26\n",
    "            order += 65\n",
    "            plaintext += chr(order)\n",
    "        else:\n",
    "            plaintext += char\n",
    "    return plaintext"
   ]
  },
  {
   "cell_type": "code",
   "execution_count": 10,
   "id": "a34196c5-35e7-4c18-b7b3-31902a23752e",
   "metadata": {},
   "outputs": [
    {
     "name": "stdin",
     "output_type": "stream",
     "text": [
      "Enter the plaintext:  hello\n",
      "Enter the first key: 7\n",
      "Enter the second key:  2\n"
     ]
    },
    {
     "name": "stdout",
     "output_type": "stream",
     "text": [
      "zebbw\n",
      "HELLO\n"
     ]
    }
   ],
   "source": [
    "plaintext = input(\"Enter the plaintext: \")\n",
    "key1 = int(input(\"Enter the first key:\"))\n",
    "key2 = int(input(\"Enter the second key: \"))\n",
    "\n",
    "ciphertext = encryption(plaintext,key1,key2)\n",
    "decrypted_text = decryption(ciphertext,key1,key2)\n",
    "\n",
    "print(ciphertext)\n",
    "print(decrypted_text)"
   ]
  },
  {
   "cell_type": "code",
   "execution_count": 1,
   "id": "04244432-d9cc-4c9d-ac92-49d12daffeb4",
   "metadata": {},
   "outputs": [],
   "source": [
    "def generate(key):\n",
    "    key_stream = [0]*len(key)\n",
    "    key = key.lower()\n",
    "    for i in range(len(key)):\n",
    "        key_stream[i] = ord(key[i])-97\n",
    "    return key_stream\n",
    "    \n",
    "def encryption(plaintext,key_stream):\n",
    "    text = plaintext.lower()\n",
    "    ciphertext = \"\"\n",
    "    j=0\n",
    "    for char in text:\n",
    "        order = ord(char)\n",
    "        if order>=97 and order<=122:\n",
    "            order-=97\n",
    "            order = (order+key_stream[j])%26\n",
    "            order += 97\n",
    "            ciphertext += chr(order)\n",
    "            if j==len(key_stream)-1:\n",
    "                j=0\n",
    "            else:\n",
    "                j=j+1\n",
    "        else:\n",
    "            ciphertext += char\n",
    "\n",
    "    return ciphertext \n",
    "    \n",
    "def decryption(ciphertext,key_stream):\n",
    "    text = ciphertext.upper()\n",
    "    plaintext = \"\"\n",
    "    j=0\n",
    "    for char in text:\n",
    "        order = ord(char)\n",
    "        if order>=65 and order<=90:\n",
    "            order-=65\n",
    "            order = (order-key_stream[j])%26\n",
    "            order += 65\n",
    "            plaintext += chr(order)\n",
    "            if j==len(key_stream)-1:\n",
    "                j=0\n",
    "            else:\n",
    "                j=j+1\n",
    "        else:\n",
    "            plaintext+=char\n",
    "    return plaintext\n",
    "        \n",
    "        \n",
    "        "
   ]
  },
  {
   "cell_type": "code",
   "execution_count": 2,
   "id": "ceaf347e-7a61-4f10-942c-31f398aff700",
   "metadata": {},
   "outputs": [
    {
     "name": "stdin",
     "output_type": "stream",
     "text": [
      "Enter the plaintext:  she is learning\n",
      "Enter the key :  pascal\n"
     ]
    }
   ],
   "source": [
    "plaintext = input(\"Enter the plaintext: \")\n",
    "key = input(\"Enter the key : \")\n",
    "key_stream = generate(key)\n",
    "ciphertext = encryption(plaintext,key_stream)\n",
    "decrypted_text = decryption(ciphertext,key_stream)\n"
   ]
  },
  {
   "cell_type": "code",
   "execution_count": 3,
   "id": "52c6fac7-f5be-4f06-9ce9-b97dc1da206d",
   "metadata": {},
   "outputs": [
    {
     "name": "stdout",
     "output_type": "stream",
     "text": [
      "[15, 0, 18, 2, 0, 11]\n",
      "hhw ks wtajpiyv\n",
      "SHE IS LEARNING\n"
     ]
    }
   ],
   "source": [
    "print(key_stream)\n",
    "print(ciphertext)\n",
    "print(decrypted_text)"
   ]
  },
  {
   "cell_type": "code",
   "execution_count": null,
   "id": "3c6d41bc-31c0-4def-83d4-312414da24e4",
   "metadata": {},
   "outputs": [],
   "source": [
    "#Exception handling\n",
    "# Prevent the program from terminating when an exception is raised \n",
    "# try-except-finally:\n",
    "try:\n",
    "    # Try running some code\n",
    "except ExceptionNameHere:\n",
    "    # Run this code if ExceptionNameHere happens\n",
    "except AnotherExceptionHere: #<-- multiple except blocks\n",
    "    # Run this code if AnotherExceptionHere happens\n",
    "finally: # <-- optional\n",
    "    # Run this code no matter what "
   ]
  },
  {
   "cell_type": "code",
   "execution_count": 2,
   "id": "8b7eff35-1eb8-4f3d-88e9-e67deeab885b",
   "metadata": {},
   "outputs": [
    {
     "name": "stdout",
     "output_type": "stream",
     "text": [
      "a        b        q        s        t       \n",
      "28       21       5        0        1       \n",
      "21       7        1        1        -5      \n",
      "7        0        3        -1       6       \n",
      "\n",
      "gcd(161, 28) = 7, s = -1, t = 6\n"
     ]
    }
   ],
   "source": [
    "def extended_euclidean(a, b):\n",
    "    table = []\n",
    "    s0, s1, t0, t1 = 1, 0, 0, 1\n",
    "    \n",
    "    while b != 0:\n",
    "        q = a // b\n",
    "        a, b = b, a % b\n",
    "        s0, s1 = s1, s0 - q * s1\n",
    "        t0, t1 = t1, t0 - q * t1\n",
    "        table.append((a, b, q, s0, t0))\n",
    "    \n",
    "    # Print the table headers\n",
    "    print(f\"{'a':<8} {'b':<8} {'q':<8} {'s':<8} {'t':<8}\")\n",
    "    for row in table:\n",
    "        print(f\"{row[0]:<8} {row[1]:<8} {row[2]:<8} {row[3]:<8} {row[4]:<8}\")\n",
    "    \n",
    "    return a, s0, t0\n",
    "\n",
    "# Inputs\n",
    "a = 161\n",
    "b = 28\n",
    "\n",
    "# Compute gcd and coefficients\n",
    "gcd, s, t = extended_euclidean(a, b)\n",
    "print(f\"\\ngcd({a}, {b}) = {gcd}, s = {s}, t = {t}\")\n"
   ]
  },
  {
   "cell_type": "code",
   "execution_count": 2,
   "id": "c5bcf9c9-bf09-4a40-a068-dfa89e50a97b",
   "metadata": {},
   "outputs": [
    {
     "name": "stdout",
     "output_type": "stream",
     "text": [
      "hello \n",
      "\n"
     ]
    }
   ],
   "source": [
    "with open(\"input.txt\",\"r\") as f:\n",
    "    plaintext = f.readline()\n",
    "    print(plaintext)\n"
   ]
  },
  {
   "cell_type": "code",
   "execution_count": null,
   "id": "e88d1a23-5cde-4d30-abea-ae4a3252726f",
   "metadata": {},
   "outputs": [],
   "source": []
  },
  {
   "cell_type": "code",
   "execution_count": 12,
   "id": "a2a03aac-aedc-46f7-807b-1047b483fda2",
   "metadata": {},
   "outputs": [
    {
     "name": "stdout",
     "output_type": "stream",
     "text": [
      "q        a        b        s        t       \n",
      "5        28       21       0        1       \n",
      "1        21       7        1        -5      \n",
      "3        7        0        -1       6       \n",
      "\n",
      "gcd(161, 28)=7, s = -1, t=6\n"
     ]
    }
   ],
   "source": [
    "def extended_euclidean(a,b):\n",
    "    table =[]\n",
    "    s0,s1,t0,t1 = 1,0,0,1\n",
    "\n",
    "    while b!=0:\n",
    "        q = a//b\n",
    "        a,b = b,a%b\n",
    "        s0,s1=s1,s0-q*s1\n",
    "        t0,t1=t1,t0-q*t1\n",
    "        table.append((q,a,b,s0,t0))\n",
    "\n",
    "    print(f\"{'q':<8} {'a':<8} {'b':<8} {'s':<8} {'t':<8}\")\n",
    "    for row in table:\n",
    "        print(f\"{row[0]:<8} {row[1]:<8} {row[2]:<8} {row[3]:<8} {row[4]:<8}\")\n",
    "\n",
    "    return a,s0,t0\n",
    "\n",
    "a=161\n",
    "b=28\n",
    "gcd,s,t = extended_euclidean(a,b)\n",
    "print(f\"\\ngcd({a}, {b})={gcd}, s = {s}, t={t}\")"
   ]
  },
  {
   "cell_type": "code",
   "execution_count": null,
   "id": "d98af550-e6c5-409c-b221-e4fc6ab99f02",
   "metadata": {},
   "outputs": [],
   "source": [
    "def extended_euclidean(a,b):\n",
    "    "
   ]
  },
  {
   "cell_type": "code",
   "execution_count": 1,
   "id": "fe78c7b0-70af-47a4-9c15-d53caa6fd60b",
   "metadata": {},
   "outputs": [
    {
     "name": "stdout",
     "output_type": "stream",
     "text": [
      "Ciphertext: (5, 6)\n"
     ]
    }
   ],
   "source": [
    "import random\n",
    "\n",
    "def elgamal_encrypt(p, e1, plaintext, r):\n",
    "    e2 = pow(e1, d, p)\n",
    "    c1 = pow(e1, r, p)\n",
    "    c2 = (plaintext * pow(e2, r, p)) % p\n",
    "    return c1, c2\n",
    "\n",
    "def elgamal_decrypt(p, d, c1, c2):\n",
    "    s = pow(c1, d, p)\n",
    "    plaintext = (c2 * pow(s, p - 2, p)) % p\n",
    "    return plaintext\n",
    "\n",
    "p = 11\n",
    "\n",
    "e1 = 2\n",
    "d = 3\n",
    "plaintext = 7\n",
    "r = 4\n",
    "c1, c2 = elgamal_encrypt(p,  e1, plaintext, r)\n",
    "print(\"Ciphertext:\", (c1, c2))\n",
    "decrypted_plaintext = elgamal_decrypt(p, d, c1, c2)"
   ]
  },
  {
   "cell_type": "code",
   "execution_count": 5,
   "id": "7f47a6c4-0ab1-498c-b779-4313091f8e0a",
   "metadata": {},
   "outputs": [
    {
     "name": "stdout",
     "output_type": "stream",
     "text": [
      "5 6\n",
      "7\n"
     ]
    }
   ],
   "source": [
    "\n",
    "def elgamal(p,e1,plaintext,r):\n",
    "    e2=pow(e1,d,p)\n",
    "    c1=pow(e1,r,p)\n",
    "    c2=(plaintext*pow(e2,r,p))%p\n",
    "    return c1,c2\n",
    "def decrypt(p,d,c1,c2):\n",
    "    s=pow(c1,d,p)\n",
    "    pt=(c2*pow(s,p-2,p))%p\n",
    "    return pt\n",
    "p=11\n",
    "e1=2\n",
    "plaintext=7\n",
    "r=4\n",
    "d=3\n",
    "c1,c2=elgamal(p,e1,plaintext,r)\n",
    "p=decrypt(p,d,c1,c2)\n",
    "\n",
    "print(c1,c2)\n",
    "print(p)"
   ]
  },
  {
   "cell_type": "code",
   "execution_count": null,
   "id": "e862aeba-75aa-41e1-b454-a44d0a955bf8",
   "metadata": {},
   "outputs": [],
   "source": [
    "import base64\n",
    "from Crypto.Cipher import AES\n",
    "from Crypto.Random import get_random_bytes\n",
    "\n",
    "plaintext = b'This is a secret message'\n",
    "key = get_random_bytes(16)\n",
    "\n",
    "cipher = AES.new(key,AES.MODE_EAX)\n",
    "ciphertext,tag = cipher.encrypt_and_digest(plaintext)\n",
    "print(base64.b64encode(ciphertext))\n",
    "\n",
    "decrypt_cipher = AES.new(key,AES.MODE_EAX,nonce=cipher.nonce)\n",
    "decrypted_text = decrypt_cipher.decrypt_and_verify(ciphertext,tag)\n",
    "print(decrypted_text.decode())\n",
    "\n"
   ]
  },
  {
   "cell_type": "code",
   "execution_count": 1,
   "id": "25c4db10-c920-4ec0-8e89-f713ccae3900",
   "metadata": {},
   "outputs": [
    {
     "name": "stdout",
     "output_type": "stream",
     "text": [
      "Parent talking!\n",
      "Child talking!\n",
      "TalkativeChild talking!\n",
      "Parent talking!\n"
     ]
    }
   ],
   "source": [
    "class Parent:\n",
    "    def talk(self):\n",
    "        print(\"Parent talking!\")     \n",
    "\n",
    "class Child(Parent):\n",
    "    def talk(self):\n",
    "        print(\"Child talking!\")          \n",
    "\n",
    "class TalkativeChild(Parent):\n",
    "    def talk(self):\n",
    "        print(\"TalkativeChild talking!\")\n",
    "        Parent.talk(self)\n",
    "\n",
    "\n",
    "p, c, tc = Parent(), Child(), TalkativeChild()\n",
    "\n",
    "for obj in (p, c, tc):\n",
    "    obj.talk()"
   ]
  },
  {
   "cell_type": "code",
   "execution_count": null,
   "id": "69d37948-444e-444f-901a-a271fcd8c400",
   "metadata": {},
   "outputs": [],
   "source": []
  }
 ],
 "metadata": {
  "kernelspec": {
   "display_name": "Python 3 (ipykernel)",
   "language": "python",
   "name": "python3"
  },
  "language_info": {
   "codemirror_mode": {
    "name": "ipython",
    "version": 3
   },
   "file_extension": ".py",
   "mimetype": "text/x-python",
   "name": "python",
   "nbconvert_exporter": "python",
   "pygments_lexer": "ipython3",
   "version": "3.12.3"
  }
 },
 "nbformat": 4,
 "nbformat_minor": 5
}
