{
 "cells": [
  {
   "cell_type": "code",
   "execution_count": 2,
   "metadata": {},
   "outputs": [
    {
     "ename": "ModuleNotFoundError",
     "evalue": "No module named 'Crypto'",
     "output_type": "error",
     "traceback": [
      "\u001b[1;31m---------------------------------------------------------------------------\u001b[0m",
      "\u001b[1;31mModuleNotFoundError\u001b[0m                       Traceback (most recent call last)",
      "Cell \u001b[1;32mIn[2], line 2\u001b[0m\n\u001b[0;32m      1\u001b[0m \u001b[38;5;28;01mimport\u001b[39;00m \u001b[38;5;21;01mbase64\u001b[39;00m\n\u001b[1;32m----> 2\u001b[0m \u001b[38;5;28;01mfrom\u001b[39;00m \u001b[38;5;21;01mCrypto\u001b[39;00m\u001b[38;5;21;01m.\u001b[39;00m\u001b[38;5;21;01mCipher\u001b[39;00m \u001b[38;5;28;01mimport\u001b[39;00m AES \n\u001b[0;32m      3\u001b[0m \u001b[38;5;28;01mfrom\u001b[39;00m \u001b[38;5;21;01mCrypto\u001b[39;00m\u001b[38;5;21;01m.\u001b[39;00m\u001b[38;5;21;01mRandom\u001b[39;00m \u001b[38;5;28;01mimport\u001b[39;00m get_random_bytes\n\u001b[0;32m      5\u001b[0m plaintext \u001b[38;5;241m=\u001b[39m \u001b[38;5;124mb\u001b[39m\u001b[38;5;124m'\u001b[39m\u001b[38;5;124mThis is a secret message\u001b[39m\u001b[38;5;124m'\u001b[39m\n",
      "\u001b[1;31mModuleNotFoundError\u001b[0m: No module named 'Crypto'"
     ]
    }
   ],
   "source": [
    "import base64\n",
    "from Crypto.Cipher import AES \n",
    "from Crypto.Random import get_random_bytes\n",
    "\n",
    "plaintext = b'This is a secret message'\n",
    "key = get_random_bytes(16)\n",
    "\n",
    "cipher = AES.new(key, AES.MODE_EAX)\n",
    "ciphertext, tag = cipher.encrypt_and_digest(plaintext)\n",
    "print(\"Ciphertext : \", base64.b64encode(ciphertext))\n",
    "print(\"Tag : \", tag)\n",
    "\n",
    "decrypt_cipher = AES.new(key, AES.MODE_EAX, nonce=cipher.nonce)\n",
    "decrypted_text =decrypt_cipher.decrypt_and_verify(ciphertext, tag)\n",
    "print(\"Decrypted text: \", decrypted_text.decode())"
   ]
  },
  {
   "cell_type": "code",
   "execution_count": null,
   "metadata": {},
   "outputs": [],
   "source": []
  },
  {
   "cell_type": "code",
   "execution_count": null,
   "metadata": {},
   "outputs": [],
   "source": []
  }
 ],
 "metadata": {
  "kernelspec": {
   "display_name": "Python 3 (ipykernel)",
   "language": "python",
   "name": "python3"
  },
  "language_info": {
   "codemirror_mode": {
    "name": "ipython",
    "version": 3
   },
   "file_extension": ".py",
   "mimetype": "text/x-python",
   "name": "python",
   "nbconvert_exporter": "python",
   "pygments_lexer": "ipython3",
   "version": "3.12.3"
  }
 },
 "nbformat": 4,
 "nbformat_minor": 4
}
