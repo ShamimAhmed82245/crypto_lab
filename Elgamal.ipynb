{
 "cells": [
  {
   "cell_type": "code",
   "execution_count": 6,
   "id": "b41e2fb8-b427-4735-9461-2e1a5f7029da",
   "metadata": {},
   "outputs": [
    {
     "name": "stdout",
     "output_type": "stream",
     "text": [
      "5 6\n",
      "7\n"
     ]
    }
   ],
   "source": [
    "def elgamal(p,e1,plaintext,r):\n",
    "    e2 = pow(e1,d,p)\n",
    "    c1 = pow(e1,r,p)\n",
    "    c2 = (plaintext*pow(e2,r,p))%p\n",
    "    return c1,c2\n",
    "\n",
    "def decrypt(p,d,c1,c2):\n",
    "    s = pow(c1,d,p)\n",
    "    pt = (c2*pow(s,-1,p))%p\n",
    "    return pt\n",
    "\n",
    "p=11\n",
    "e1=2\n",
    "plaintext = 7\n",
    "r = 4\n",
    "d = 3\n",
    "c1,c2 = elgamal(p,e1,plaintext,r)\n",
    "p=decrypt(p,d,c1,c2)\n",
    "\n",
    "print(c1,c2)\n",
    "print(p)\n"
   ]
  },
  {
   "cell_type": "code",
   "execution_count": 15,
   "id": "60330042-11df-4f6c-9f86-30cc90a6575b",
   "metadata": {},
   "outputs": [
    {
     "name": "stdout",
     "output_type": "stream",
     "text": [
      "5 6\n",
      "7\n"
     ]
    }
   ],
   "source": [
    "def encryption(p,e1,plaintext,r):\n",
    "    e2 = pow(e1,d,p)\n",
    "    c1 = pow(e1,r,p)\n",
    "    c2 = (plaintext*pow(e2,r,p))%p\n",
    "    return c1,c2\n",
    "    \n",
    "def decryption(c1,c2,d,p):\n",
    "    s = pow(c1,d,p)\n",
    "    pt = (c2*pow(s,-1,p))%p\n",
    "    return pt\n",
    "\n",
    "p=11\n",
    "d=3\n",
    "plaintext=7\n",
    "e1=2\n",
    "r=4\n",
    "\n",
    "c1,c2 = encryption(p,e1,plaintext,r)\n",
    "p = decryption(c1,c2,d,p)\n",
    "print(c1,c2)\n",
    "print(p)"
   ]
  },
  {
   "cell_type": "code",
   "execution_count": null,
   "id": "c0ed2fb2-8f99-45f4-8dfb-43ac35226daf",
   "metadata": {},
   "outputs": [],
   "source": [
    "q = 11\n",
    "p = 23\n",
    "d = 7\n",
    "r = 13\n",
    "hm = 9\n",
    "e0 = 3\n",
    "\n",
    "e1 = pow(e0,(p-1)//q,p)\n",
    "e2 = pow(e1,d,p)\n",
    "\n",
    "s1 = pow(e1,r,p)%q\n",
    "inverse_r = pow(r,-1,p)\n",
    "s2 = "
   ]
  },
  {
   "cell_type": "code",
   "execution_count": null,
   "id": "85e0c594-4a7e-4732-a3a4-5f318a54bbec",
   "metadata": {},
   "outputs": [],
   "source": []
  }
 ],
 "metadata": {
  "kernelspec": {
   "display_name": "Python 3 (ipykernel)",
   "language": "python",
   "name": "python3"
  },
  "language_info": {
   "codemirror_mode": {
    "name": "ipython",
    "version": 3
   },
   "file_extension": ".py",
   "mimetype": "text/x-python",
   "name": "python",
   "nbconvert_exporter": "python",
   "pygments_lexer": "ipython3",
   "version": "3.12.3"
  }
 },
 "nbformat": 4,
 "nbformat_minor": 5
}
