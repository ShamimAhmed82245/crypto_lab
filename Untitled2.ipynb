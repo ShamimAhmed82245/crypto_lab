{
 "cells": [
  {
   "cell_type": "code",
   "execution_count": 2,
   "id": "b84474cc-1204-4e13-a7a0-0298e0ce6991",
   "metadata": {},
   "outputs": [
    {
     "name": "stdout",
     "output_type": "stream",
     "text": [
      "I am Customer Laura\n",
      "Lara de Silva\n"
     ]
    }
   ],
   "source": [
    "class Customer:\n",
    "\n",
    "    def identify(self,name):\n",
    "        print(\"I am Customer \"+name)\n",
    "\n",
    "    def set_name(self,new_name):\n",
    "        self.name = new_name\n",
    "        \n",
    "\n",
    "cust = Customer()\n",
    "cust.identify(\"Laura\")\n",
    "cust.set_name(\"Lara de Silva\")\n",
    "\n",
    "print(cust.name)"
   ]
  },
  {
   "cell_type": "code",
   "execution_count": 3,
   "id": "d7afb183-c8b0-4334-8ee2-73bf5e167201",
   "metadata": {},
   "outputs": [
    {
     "name": "stdout",
     "output_type": "stream",
     "text": [
      "I am CustomerEris Odoro\n"
     ]
    }
   ],
   "source": [
    "class Customer:\n",
    "    def identify(self,name):\n",
    "        print(\"I am Customer\"+name)\n",
    "\n",
    "cust = Customer()\n",
    "cust.identify(\"Eris Odoro\")\n"
   ]
  },
  {
   "cell_type": "code",
   "execution_count": 7,
   "id": "1a6d70f1-f4f6-470f-b7ef-e5918e08ec94",
   "metadata": {},
   "outputs": [
    {
     "name": "stdout",
     "output_type": "stream",
     "text": [
      "I am Customer Rashid Volkov\n",
      "Rashid Volkov\n"
     ]
    }
   ],
   "source": [
    "class Customer:\n",
    "    def set_name(self,new_name):\n",
    "        self.name = new_name\n",
    "\n",
    "    def identify(self):\n",
    "        print(\"I am Customer \"+self.name)\n",
    "\n",
    "cust = Customer()\n",
    "cust.set_name(\"Rashid Volkov\")\n",
    "cust.identify()\n",
    "print(cust.name)"
   ]
  },
  {
   "cell_type": "code",
   "execution_count": 8,
   "id": "7992dd23-ef82-4fdb-943b-b1531d28b1b4",
   "metadata": {},
   "outputs": [
    {
     "name": "stdout",
     "output_type": "stream",
     "text": [
      "The __init__ method was called\n",
      "Lara de Silva\n"
     ]
    }
   ],
   "source": [
    "class Customer:\n",
    "    def __init__(self,name):\n",
    "        self.name = name\n",
    "        print(\"The __init__ method was called\")\n",
    "\n",
    "cust = Customer(\"Lara de Silva\")\n",
    "print(cust.name)"
   ]
  },
  {
   "cell_type": "code",
   "execution_count": 10,
   "id": "299a7912-f4e8-4641-8666-cd851a329e77",
   "metadata": {},
   "outputs": [
    {
     "name": "stdout",
     "output_type": "stream",
     "text": [
      "The __init__ method was called\n",
      "Lara de Silva\n",
      "1000\n"
     ]
    }
   ],
   "source": [
    "class Customer:\n",
    "    def __init__(self,name,balance):\n",
    "        self.name = name\n",
    "        self.balance = balance\n",
    "        print(\"The __init__ method was called\")\n",
    "\n",
    "cust = Customer(\"Lara de Silva\",1000)\n",
    "print(cust.name)\n",
    "print(cust.balance)"
   ]
  },
  {
   "cell_type": "code",
   "execution_count": 11,
   "id": "5a7f68da-d73c-4c5b-a60d-49abef77acc4",
   "metadata": {},
   "outputs": [
    {
     "name": "stdout",
     "output_type": "stream",
     "text": [
      "The __init__ method was called\n",
      "Lara de Silva\n",
      "0\n"
     ]
    }
   ],
   "source": [
    "class Customer:\n",
    "    def __init__(self,name,balance=0):\n",
    "        self.name = name\n",
    "        self.balance = balance\n",
    "        print(\"The __init__ method was called\")\n",
    "\n",
    "cust = Customer(\"Lara de Silva\")\n",
    "print(cust.name)\n",
    "print(cust.balance)"
   ]
  },
  {
   "cell_type": "code",
   "execution_count": null,
   "id": "66801556-3267-4948-b2d3-5bf6adc23a20",
   "metadata": {},
   "outputs": [],
   "source": [
    "class MyClass:\n",
    "    def my_method1(self,attr1):\n",
    "        self.attr1 = attr1\n",
    "\n",
    "    def my_method2(self,attr2):\n",
    "        self.attr2 = attr2\n",
    "\n",
    "obj = MyClass()\n",
    "obj.my_method1(\"\")\n",
    "obj.my_method2(3)"
   ]
  },
  {
   "cell_type": "code",
   "execution_count": 13,
   "id": "6b9f3be9-8367-4dd7-a63d-10d62ecefa18",
   "metadata": {},
   "outputs": [],
   "source": [
    "class MyClass:\n",
    "    def __init__(self,attr1,attr2):\n",
    "        self.attr1 = attr1\n",
    "        self.attr2 = attr2\n",
    "\n",
    "obj = MyClass(12,45)\n",
    "\n"
   ]
  },
  {
   "cell_type": "code",
   "execution_count": 1,
   "id": "061a4f75-f735-47b5-97ea-937e0d7e4088",
   "metadata": {},
   "outputs": [],
   "source": [
    "class Employee:\n",
    "    def  __init__(self,name,salary):\n",
    "        self.name = name\n",
    "        self.salary = salary\n",
    "\n",
    "emp1 = Employee(\"Teo Millle \",50000)\n",
    "emp2 = Employee(\"Marta Popov\",65000)\n",
    "\n",
    "#name,salary are instance attributes\n",
    "#self binds to an instance"
   ]
  },
  {
   "cell_type": "code",
   "execution_count": null,
   "id": "bf1b564e-6e8a-4d8b-9bb5-59df5c64781d",
   "metadata": {},
   "outputs": [],
   "source": [
    "# class-level data \n",
    "# Data shared among all instances of a class\n",
    "# Define classs attributes in the body of class\n",
    "class MyClass:\n",
    "\n",
    "    CLASS_ATTR_NAME = attr_value\n",
    "\n",
    "# Global variable within the class\n"
   ]
  },
  {
   "cell_type": "code",
   "execution_count": 7,
   "id": "a16a1d0b-a132-412a-8786-95aa4a364883",
   "metadata": {},
   "outputs": [],
   "source": [
    "class Employee:\n",
    "    # Define a class attribute\n",
    "    MIN_SALARY = 30000 #<--- no self\n",
    "    def __init__(self,name,salary):\n",
    "        self.name = name \n",
    "        if salary >= Employee.MIN_SALARY:\n",
    "            self.salary = salary\n",
    "        else:\n",
    "            self.salary = Employee.MIN_SALARY\n",
    "\n",
    "\n",
    "            "
   ]
  },
  {
   "cell_type": "code",
   "execution_count": 8,
   "id": "eb2d9cd6-42e9-44c3-8903-7a892523ab23",
   "metadata": {},
   "outputs": [
    {
     "name": "stdout",
     "output_type": "stream",
     "text": [
      "30000\n",
      "30000\n"
     ]
    }
   ],
   "source": [
    "emp1 = Employee(\"TBD\",40000)\n",
    "print(emp1.MIN_SALARY)\n",
    "emp2 = Employee(\"TBD\",60000)\n",
    "print(emp2.MIN_SALARY)"
   ]
  },
  {
   "cell_type": "code",
   "execution_count": null,
   "id": "052ca977-bf07-485e-8175-a70447f0f5d2",
   "metadata": {},
   "outputs": [],
   "source": [
    "#Class Methods\n",
    "# Methods are already \"shared\": same code for every instance\n",
    "# Class methods can't use instance-level data\n",
    "class MyClass:\n",
    "\n",
    "    @classmethod                       #<--- use the decorator to declare a class method\n",
    "    def my_awesome_method(cls,args...):#<--- cls argument refers to the class\n",
    "\n",
    "\n",
    "MyClass.my_awesome_method(args...)\n"
   ]
  },
  {
   "cell_type": "code",
   "execution_count": 11,
   "id": "f8b51dfc-0ca5-4ec5-b27f-0bff1dc0b374",
   "metadata": {},
   "outputs": [
    {
     "name": "stdout",
     "output_type": "stream",
     "text": [
      "<class '__main__.Employee'>\n"
     ]
    }
   ],
   "source": [
    "class Employee:\n",
    "    MIN_SALARY = 30000\n",
    "\n",
    "    def __init__(self, name, salary=30000):\n",
    "        self.name = name\n",
    "        if salary >= Employee.MIN_SALARY:\n",
    "            self.salary = salary\n",
    "        else:\n",
    "            self.salary = Employee.MIN_SALARY\n",
    "\n",
    "    @classmethod\n",
    "    def from_file(cls, filename):\n",
    "        with open(filename, \"r\") as f:\n",
    "            name = f.readline().strip()  # read and strip whitespace or newline\n",
    "\n",
    "        return cls(name)\n",
    "\n",
    "emp = Employee.from_file(\"employee_data.txt\")\n",
    "print(type(emp))\n"
   ]
  },
  {
   "cell_type": "code",
   "execution_count": null,
   "id": "3b6b8d43-58b0-4487-9b2a-89e9783ed050",
   "metadata": {},
   "outputs": [],
   "source": []
  }
 ],
 "metadata": {
  "kernelspec": {
   "display_name": "Python 3 (ipykernel)",
   "language": "python",
   "name": "python3"
  },
  "language_info": {
   "codemirror_mode": {
    "name": "ipython",
    "version": 3
   },
   "file_extension": ".py",
   "mimetype": "text/x-python",
   "name": "python",
   "nbconvert_exporter": "python",
   "pygments_lexer": "ipython3",
   "version": "3.12.3"
  }
 },
 "nbformat": 4,
 "nbformat_minor": 5
}
