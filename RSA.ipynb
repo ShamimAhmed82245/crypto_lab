{
 "cells": [
  {
   "cell_type": "code",
   "execution_count": 3,
   "id": "85a28c67-a58d-449c-8c3e-e7663401f675",
   "metadata": {},
   "outputs": [
    {
     "name": "stdout",
     "output_type": "stream",
     "text": [
      "Public key (e, n): (65537, 3233), Private key (d, n): (2753, 3233)\n",
      "Original message: 42\n",
      "Encrypted message (ciphertext): 2557\n",
      "Decrypted message: 42\n"
     ]
    }
   ],
   "source": [
    "# Helper function: Extended Euclidean Algorithm to find the modular inverse\n",
    "def extended_gcd(a, b):\n",
    "    if b == 0:\n",
    "        return a, 1, 0\n",
    "    gcd, x1, y1 = extended_gcd(b, a % b)\n",
    "    x = y1\n",
    "    y = x1 - (a // b) * y1\n",
    "    return gcd, x, y\n",
    "\n",
    "def mod_inverse(a, m):\n",
    "    gcd, x, _ = extended_gcd(a, m)\n",
    "    if gcd != 1:\n",
    "        raise ValueError(\"Modular inverse does not exist\")\n",
    "    else:\n",
    "        return x % m\n",
    "\n",
    "# Helper function: Modular Exponentiation\n",
    "def mod_exp(base, exp, mod):\n",
    "    result = 1\n",
    "    base = base % mod\n",
    "    while exp > 0:\n",
    "        if (exp % 2) == 1:  # If exp is odd, multiply base with result\n",
    "            result = (result * base) % mod\n",
    "        exp = exp >> 1  # Divide the exponent by 2\n",
    "        base = (base * base) % mod  # Square the base\n",
    "    return result\n",
    "\n",
    "# Step 1: Key Generation\n",
    "def generate_keys():\n",
    "    # Choose two prime numbers (small values for simplicity, use larger primes in real use)\n",
    "    p = 61\n",
    "    q = 53\n",
    "    n = p * q\n",
    "    phi_n = (p - 1) * (q - 1)\n",
    "    \n",
    "    # Public exponent (commonly used value is 65537)\n",
    "    e = 65537\n",
    "    \n",
    "    # Compute the private key 'd' (modular inverse of e modulo phi_n)\n",
    "    d = mod_inverse(e, phi_n)\n",
    "    \n",
    "    # Public key is (e, n) and private key is (d, n)\n",
    "    return e, d, n\n",
    "\n",
    "# Step 2: Encryption (Public key is (e, n), plaintext is m)\n",
    "def encrypt(m, e, n):\n",
    "    return mod_exp(m, e, n)\n",
    "\n",
    "# Step 3: Decryption (Private key is (d, n), ciphertext is c)\n",
    "def decrypt(c, d, n):\n",
    "    return mod_exp(c, d, n)\n",
    "\n",
    "# Example Usage\n",
    "if __name__ == \"__main__\":\n",
    "    # Generate keys\n",
    "    e, d, n = generate_keys()\n",
    "    print(f\"Public key (e, n): ({e}, {n}), Private key (d, n): ({d}, {n})\")\n",
    "    \n",
    "    # Sample message (must be smaller than n)\n",
    "    m = 42\n",
    "    print(f\"Original message: {m}\")\n",
    "    \n",
    "    # Encrypt the message\n",
    "    c = encrypt(m, e, n)\n",
    "    print(f\"Encrypted message (ciphertext): {c}\")\n",
    "    \n",
    "    # Decrypt the ciphertext\n",
    "    decrypted_message = decrypt(c, d, n)\n",
    "    print(f\"Decrypted message: {decrypted_message}\")"
   ]
  },
  {
   "cell_type": "code",
   "execution_count": null,
   "id": "bb0c83ed-30ae-4f5e-b4ba-dfda3886298f",
   "metadata": {},
   "outputs": [],
   "source": []
  },
  {
   "cell_type": "code",
   "execution_count": null,
   "id": "503c7977-960f-44ef-92e9-8de2d985c620",
   "metadata": {},
   "outputs": [],
   "source": []
  }
 ],
 "metadata": {
  "kernelspec": {
   "display_name": "Python 3 (ipykernel)",
   "language": "python",
   "name": "python3"
  },
  "language_info": {
   "codemirror_mode": {
    "name": "ipython",
    "version": 3
   },
   "file_extension": ".py",
   "mimetype": "text/x-python",
   "name": "python",
   "nbconvert_exporter": "python",
   "pygments_lexer": "ipython3",
   "version": "3.12.3"
  }
 },
 "nbformat": 4,
 "nbformat_minor": 5
}
